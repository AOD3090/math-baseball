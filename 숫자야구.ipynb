{
  "nbformat": 4,
  "nbformat_minor": 0,
  "metadata": {
    "colab": {
      "provenance": [],
      "authorship_tag": "ABX9TyMJ+SuzMplk8cM6wSmuu0rC",
      "include_colab_link": true
    },
    "kernelspec": {
      "name": "python3",
      "display_name": "Python 3"
    },
    "language_info": {
      "name": "python"
    }
  },
  "cells": [
    {
      "cell_type": "markdown",
      "metadata": {
        "id": "view-in-github",
        "colab_type": "text"
      },
      "source": [
        "<a href=\"https://colab.research.google.com/github/AOD3090/math-baseball/blob/main/%ED%94%84%EB%A1%9C%EC%A0%9D%ED%8A%B8.ipynb\" target=\"_parent\"><img src=\"https://colab.research.google.com/assets/colab-badge.svg\" alt=\"Open In Colab\"/></a>"
      ]
    },
    {
      "cell_type": "code",
      "source": [
        "import random\n",
        "\n",
        "print('숫자 야구 게임에 오신걸 환영합니다\\n')\n",
        "\n",
        "game_over = False #게임 종료\n",
        "\n",
        "while True:  # 전체 게임 반복\n",
        "    # 난이도 선택\n",
        "    while True:\n",
        "        print('난이도를 선택하시오')\n",
        "        print('1) 초보자  2) 중급자  3) 고급자')\n",
        "        choice = input('난이도 : ')\n",
        "        print()\n",
        "\n",
        "        if choice == '1' or choice == '초보자':\n",
        "            length = 3\n",
        "            print('초보자 난이도를 선택하셨습니다.\\n')\n",
        "            break\n",
        "        elif choice == '2' or choice == '중급자':\n",
        "            length = 4\n",
        "            print('중급자 난이도를 선택하셨습니다.\\n')\n",
        "            break\n",
        "        elif choice == '3' or choice == '고급자':\n",
        "            length = 5\n",
        "            print('고급자 난이도를 선택하셨습니다.\\n')\n",
        "            break\n",
        "        else:\n",
        "            print('잘못된 입력입니다. 다시 선택해주세요.\\n')\n",
        "\n",
        "    # 정답 생성\n",
        "    answer = random.sample(range(1, 10), length)\n",
        "    # print(answer)  # 정답 확인용\n",
        "\n",
        "    # 게임 한 판\n",
        "    while True:\n",
        "        guess = input(f\"{length} 자리 숫자를 입력하세요 (중단을 원할 시: q):  \")\n",
        "\n",
        "        if guess.lower() == 'q':\n",
        "          print('게임을 중단합니다\\n')\n",
        "          game_over = True\n",
        "          break\n",
        "\n",
        "        if not guess.isdigit() or len(guess) != length:\n",
        "            print(f\"잘못된 입력입니다. {length} 자리 숫자를 입력해주세요.\\n\")\n",
        "            continue\n",
        "\n",
        "        guess = list(map(int, guess))\n",
        "\n",
        "        strike, ball = 0, 0\n",
        "        for i in range(length):\n",
        "            if guess[i] == answer[i]:\n",
        "                strike += 1\n",
        "            elif guess[i] in answer:\n",
        "                ball += 1\n",
        "\n",
        "        print(f\"{strike} 스트라이크, {ball} 볼\\n\")\n",
        "\n",
        "        if strike == length:\n",
        "            print(f\"정답입니다! ({''.join(map(str, answer))}) \\n\")\n",
        "            break  # 한 판 종료\n",
        "\n",
        "    again = input('다시 게임을 하시겠습니까? (y/n): ')\n",
        "    if again.lower() != 'y':\n",
        "        print('게임을 종료합니다.')\n",
        "        break\n"
      ],
      "metadata": {
        "id": "C6BH9sgLNRzY",
        "colab": {
          "base_uri": "https://localhost:8080/"
        },
        "outputId": "04e3a101-7fce-472e-9c38-0d8e8c1f9871"
      },
      "execution_count": 3,
      "outputs": [
        {
          "output_type": "stream",
          "name": "stdout",
          "text": [
            "숫자 야구 게임에 오신걸 환영합니다\n",
            "\n",
            "난이도를 선택하시오\n",
            "1) 초보자  2) 중급자  3) 고급자\n",
            "난이도 : 1\n",
            "\n",
            "초보자 난이도를 선택하셨습니다.\n",
            "\n",
            "3 자리 숫자를 입력하세요 (중단을 원할 시: q) :  q\n",
            "게임을 중단합니다\n",
            "\n",
            "다시 게임을 하시겠습니까? (y/n): n\n",
            "게임을 종료합니다.\n"
          ]
        }
      ]
    }
  ]
}
